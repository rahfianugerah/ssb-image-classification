{
  "cells": [
    {
      "cell_type": "markdown",
      "metadata": {
        "id": "fB1qL_u1Ubdu"
      },
      "source": [
        "# Shoes Sandals Boots Image Classification using TensorFlow with CNN"
      ]
    },
    {
      "cell_type": "markdown",
      "metadata": {
        "id": "BZ21Rw2UbgKn"
      },
      "source": [
        "## Install and Config Kaggle"
      ]
    },
    {
      "cell_type": "code",
      "execution_count": 1,
      "metadata": {
        "id": "hMjJNrT3m5Yn",
        "colab": {
          "base_uri": "https://localhost:8080/"
        },
        "outputId": "bf6265db-14e1-4afa-b998-f2ba1654a250"
      },
      "outputs": [
        {
          "output_type": "stream",
          "name": "stdout",
          "text": [
            "2.15.0\n"
          ]
        }
      ],
      "source": [
        "import tensorflow as tf\n",
        "print(tf.__version__)"
      ]
    },
    {
      "cell_type": "code",
      "execution_count": 2,
      "metadata": {
        "id": "Ak-gd997VbzM"
      },
      "outputs": [],
      "source": [
        "!pip install -q kaggle"
      ]
    },
    {
      "cell_type": "code",
      "execution_count": 3,
      "metadata": {
        "colab": {
          "base_uri": "https://localhost:8080/",
          "height": 73
        },
        "id": "lPNT9feS4Keb",
        "outputId": "9ae8a0b9-5ef8-4bea-9a81-c3c550213739"
      },
      "outputs": [
        {
          "output_type": "display_data",
          "data": {
            "text/plain": [
              "<IPython.core.display.HTML object>"
            ],
            "text/html": [
              "\n",
              "     <input type=\"file\" id=\"files-eb8cb90a-8f2a-4695-b3c8-b02ec189b454\" name=\"files[]\" multiple disabled\n",
              "        style=\"border:none\" />\n",
              "     <output id=\"result-eb8cb90a-8f2a-4695-b3c8-b02ec189b454\">\n",
              "      Upload widget is only available when the cell has been executed in the\n",
              "      current browser session. Please rerun this cell to enable.\n",
              "      </output>\n",
              "      <script>// Copyright 2017 Google LLC\n",
              "//\n",
              "// Licensed under the Apache License, Version 2.0 (the \"License\");\n",
              "// you may not use this file except in compliance with the License.\n",
              "// You may obtain a copy of the License at\n",
              "//\n",
              "//      http://www.apache.org/licenses/LICENSE-2.0\n",
              "//\n",
              "// Unless required by applicable law or agreed to in writing, software\n",
              "// distributed under the License is distributed on an \"AS IS\" BASIS,\n",
              "// WITHOUT WARRANTIES OR CONDITIONS OF ANY KIND, either express or implied.\n",
              "// See the License for the specific language governing permissions and\n",
              "// limitations under the License.\n",
              "\n",
              "/**\n",
              " * @fileoverview Helpers for google.colab Python module.\n",
              " */\n",
              "(function(scope) {\n",
              "function span(text, styleAttributes = {}) {\n",
              "  const element = document.createElement('span');\n",
              "  element.textContent = text;\n",
              "  for (const key of Object.keys(styleAttributes)) {\n",
              "    element.style[key] = styleAttributes[key];\n",
              "  }\n",
              "  return element;\n",
              "}\n",
              "\n",
              "// Max number of bytes which will be uploaded at a time.\n",
              "const MAX_PAYLOAD_SIZE = 100 * 1024;\n",
              "\n",
              "function _uploadFiles(inputId, outputId) {\n",
              "  const steps = uploadFilesStep(inputId, outputId);\n",
              "  const outputElement = document.getElementById(outputId);\n",
              "  // Cache steps on the outputElement to make it available for the next call\n",
              "  // to uploadFilesContinue from Python.\n",
              "  outputElement.steps = steps;\n",
              "\n",
              "  return _uploadFilesContinue(outputId);\n",
              "}\n",
              "\n",
              "// This is roughly an async generator (not supported in the browser yet),\n",
              "// where there are multiple asynchronous steps and the Python side is going\n",
              "// to poll for completion of each step.\n",
              "// This uses a Promise to block the python side on completion of each step,\n",
              "// then passes the result of the previous step as the input to the next step.\n",
              "function _uploadFilesContinue(outputId) {\n",
              "  const outputElement = document.getElementById(outputId);\n",
              "  const steps = outputElement.steps;\n",
              "\n",
              "  const next = steps.next(outputElement.lastPromiseValue);\n",
              "  return Promise.resolve(next.value.promise).then((value) => {\n",
              "    // Cache the last promise value to make it available to the next\n",
              "    // step of the generator.\n",
              "    outputElement.lastPromiseValue = value;\n",
              "    return next.value.response;\n",
              "  });\n",
              "}\n",
              "\n",
              "/**\n",
              " * Generator function which is called between each async step of the upload\n",
              " * process.\n",
              " * @param {string} inputId Element ID of the input file picker element.\n",
              " * @param {string} outputId Element ID of the output display.\n",
              " * @return {!Iterable<!Object>} Iterable of next steps.\n",
              " */\n",
              "function* uploadFilesStep(inputId, outputId) {\n",
              "  const inputElement = document.getElementById(inputId);\n",
              "  inputElement.disabled = false;\n",
              "\n",
              "  const outputElement = document.getElementById(outputId);\n",
              "  outputElement.innerHTML = '';\n",
              "\n",
              "  const pickedPromise = new Promise((resolve) => {\n",
              "    inputElement.addEventListener('change', (e) => {\n",
              "      resolve(e.target.files);\n",
              "    });\n",
              "  });\n",
              "\n",
              "  const cancel = document.createElement('button');\n",
              "  inputElement.parentElement.appendChild(cancel);\n",
              "  cancel.textContent = 'Cancel upload';\n",
              "  const cancelPromise = new Promise((resolve) => {\n",
              "    cancel.onclick = () => {\n",
              "      resolve(null);\n",
              "    };\n",
              "  });\n",
              "\n",
              "  // Wait for the user to pick the files.\n",
              "  const files = yield {\n",
              "    promise: Promise.race([pickedPromise, cancelPromise]),\n",
              "    response: {\n",
              "      action: 'starting',\n",
              "    }\n",
              "  };\n",
              "\n",
              "  cancel.remove();\n",
              "\n",
              "  // Disable the input element since further picks are not allowed.\n",
              "  inputElement.disabled = true;\n",
              "\n",
              "  if (!files) {\n",
              "    return {\n",
              "      response: {\n",
              "        action: 'complete',\n",
              "      }\n",
              "    };\n",
              "  }\n",
              "\n",
              "  for (const file of files) {\n",
              "    const li = document.createElement('li');\n",
              "    li.append(span(file.name, {fontWeight: 'bold'}));\n",
              "    li.append(span(\n",
              "        `(${file.type || 'n/a'}) - ${file.size} bytes, ` +\n",
              "        `last modified: ${\n",
              "            file.lastModifiedDate ? file.lastModifiedDate.toLocaleDateString() :\n",
              "                                    'n/a'} - `));\n",
              "    const percent = span('0% done');\n",
              "    li.appendChild(percent);\n",
              "\n",
              "    outputElement.appendChild(li);\n",
              "\n",
              "    const fileDataPromise = new Promise((resolve) => {\n",
              "      const reader = new FileReader();\n",
              "      reader.onload = (e) => {\n",
              "        resolve(e.target.result);\n",
              "      };\n",
              "      reader.readAsArrayBuffer(file);\n",
              "    });\n",
              "    // Wait for the data to be ready.\n",
              "    let fileData = yield {\n",
              "      promise: fileDataPromise,\n",
              "      response: {\n",
              "        action: 'continue',\n",
              "      }\n",
              "    };\n",
              "\n",
              "    // Use a chunked sending to avoid message size limits. See b/62115660.\n",
              "    let position = 0;\n",
              "    do {\n",
              "      const length = Math.min(fileData.byteLength - position, MAX_PAYLOAD_SIZE);\n",
              "      const chunk = new Uint8Array(fileData, position, length);\n",
              "      position += length;\n",
              "\n",
              "      const base64 = btoa(String.fromCharCode.apply(null, chunk));\n",
              "      yield {\n",
              "        response: {\n",
              "          action: 'append',\n",
              "          file: file.name,\n",
              "          data: base64,\n",
              "        },\n",
              "      };\n",
              "\n",
              "      let percentDone = fileData.byteLength === 0 ?\n",
              "          100 :\n",
              "          Math.round((position / fileData.byteLength) * 100);\n",
              "      percent.textContent = `${percentDone}% done`;\n",
              "\n",
              "    } while (position < fileData.byteLength);\n",
              "  }\n",
              "\n",
              "  // All done.\n",
              "  yield {\n",
              "    response: {\n",
              "      action: 'complete',\n",
              "    }\n",
              "  };\n",
              "}\n",
              "\n",
              "scope.google = scope.google || {};\n",
              "scope.google.colab = scope.google.colab || {};\n",
              "scope.google.colab._files = {\n",
              "  _uploadFiles,\n",
              "  _uploadFilesContinue,\n",
              "};\n",
              "})(self);\n",
              "</script> "
            ]
          },
          "metadata": {}
        },
        {
          "output_type": "stream",
          "name": "stdout",
          "text": [
            "Saving kaggle.json to kaggle.json\n"
          ]
        }
      ],
      "source": [
        "from google.colab import files\n",
        "upload = files.upload()"
      ]
    },
    {
      "cell_type": "code",
      "execution_count": 4,
      "metadata": {
        "colab": {
          "base_uri": "https://localhost:8080/"
        },
        "id": "pFoLfZVg4LgE",
        "outputId": "dae6e968-be7c-46e7-d1ca-debd24b07738"
      },
      "outputs": [
        {
          "output_type": "stream",
          "name": "stdout",
          "text": [
            "kaggle.json\n"
          ]
        }
      ],
      "source": [
        "!mkdir -p ~/.kaggle\n",
        "!cp kaggle.json ~/.kaggle/\n",
        "!chmod 600 ~/.kaggle/kaggle.json\n",
        "!ls ~/.kaggle"
      ]
    },
    {
      "cell_type": "markdown",
      "source": [
        "## Download File Dataset\n"
      ],
      "metadata": {
        "id": "HGN0w_Me9AHb"
      }
    },
    {
      "cell_type": "code",
      "execution_count": 5,
      "metadata": {
        "colab": {
          "base_uri": "https://localhost:8080/"
        },
        "id": "IDZp1JvB4MFx",
        "outputId": "efa12cbe-6d71-43cb-8ce0-7701b9f12ae5"
      },
      "outputs": [
        {
          "output_type": "stream",
          "name": "stdout",
          "text": [
            "Dataset URL: https://www.kaggle.com/datasets/hasibalmuzdadid/shoe-vs-sandal-vs-boot-dataset-15k-images\n",
            "License(s): copyright-authors\n",
            "Downloading shoe-vs-sandal-vs-boot-dataset-15k-images.zip to /content\n",
            " 98% 46.0M/47.0M [00:03<00:00, 23.2MB/s]\n",
            "100% 47.0M/47.0M [00:03<00:00, 15.4MB/s]\n"
          ]
        }
      ],
      "source": [
        "!kaggle datasets download -d hasibalmuzdadid/shoe-vs-sandal-vs-boot-dataset-15k-images"
      ]
    },
    {
      "cell_type": "markdown",
      "metadata": {
        "id": "MiIrJNwtbk-8"
      },
      "source": [
        "## Extract The Downloaded File and Create Directory for Train Set and Validation Set"
      ]
    },
    {
      "cell_type": "code",
      "execution_count": 6,
      "metadata": {
        "id": "YJ0AxDcwWEWb"
      },
      "outputs": [],
      "source": [
        "import zipfile\n",
        "import os\n",
        "\n",
        "# Extract file zip\n",
        "zip_dir = \"/content/shoe-vs-sandal-vs-boot-dataset-15k-images.zip\"\n",
        "zip = zipfile.ZipFile(zip_dir, 'r')\n",
        "zip.extractall('/content/')\n",
        "zip.close()\n",
        "\n",
        "os.rename(\"/content/Shoe vs Sandal vs Boot Dataset\", \"/content/ssb\")"
      ]
    },
    {
      "cell_type": "code",
      "execution_count": 7,
      "metadata": {
        "id": "bG-SaobUGAc-"
      },
      "outputs": [],
      "source": [
        "# Spliting train set and validation set\n",
        "base_dir = '/content/ssb'\n",
        "train_dir = os.path.join(base_dir, 'train')\n",
        "val_dir = os.path.join(base_dir, 'val')\n",
        "\n",
        "os.makedirs(train_dir, exist_ok=True)\n",
        "os.makedirs(val_dir, exist_ok=True)"
      ]
    },
    {
      "cell_type": "markdown",
      "metadata": {
        "id": "RPF1aMJYdhwf"
      },
      "source": [
        "## Spliting Images Dataset"
      ]
    },
    {
      "cell_type": "code",
      "execution_count": 8,
      "metadata": {
        "colab": {
          "base_uri": "https://localhost:8080/"
        },
        "id": "8dasAcx1XI3_",
        "outputId": "9879263d-31dd-49d9-fbca-b3327e3c0e34"
      },
      "outputs": [
        {
          "output_type": "stream",
          "name": "stdout",
          "text": [
            "Dataset Splitting Completed!\n",
            "Train Folder: ['Boot', 'Shoe', 'Sandal']\n",
            "Validation Folder: ['Boot', 'Shoe', 'Sandal']\n"
          ]
        }
      ],
      "source": [
        "import os\n",
        "import shutil\n",
        "from sklearn.model_selection import train_test_split\n",
        "\n",
        "# Define base directory and class labels\n",
        "base_dir = \"/content/ssb\"\n",
        "classes = [\"Shoe\", \"Sandal\", \"Boot\"]\n",
        "\n",
        "# Create train and validation directories (handling existence)\n",
        "train_dir = os.path.join(base_dir, \"train\")\n",
        "val_dir = os.path.join(base_dir, \"val\")\n",
        "os.makedirs(train_dir, exist_ok=True)\n",
        "os.makedirs(val_dir, exist_ok=True)\n",
        "\n",
        "# Function to split images for each class\n",
        "def split_class_images(class_dir, test_size=0.2, random_state=42):\n",
        "  images = os.listdir(class_dir)\n",
        "  train_images, val_images = train_test_split(images, test_size=test_size, random_state=random_state)\n",
        "\n",
        "  # Move images to train and validation directories\n",
        "  for img in train_images:\n",
        "    src = os.path.join(class_dir, img)\n",
        "    dst = os.path.join(train_dir, class_name, img)  # Include class name in destination\n",
        "    os.makedirs(os.path.dirname(dst), exist_ok=True)  # Create subdirectories if needed\n",
        "    shutil.move(src, dst)  # Use move instead of copy for efficiency\n",
        "\n",
        "  for img in val_images:\n",
        "    src = os.path.join(class_dir, img)\n",
        "    dst = os.path.join(val_dir, class_name, img)\n",
        "    os.makedirs(os.path.dirname(dst), exist_ok=True)\n",
        "    shutil.move(src, dst)\n",
        "\n",
        "# Split images for each class\n",
        "for class_name in classes:\n",
        "  class_dir = os.path.join(base_dir, class_name)\n",
        "  split_class_images(class_dir)\n",
        "\n",
        "# Print confirmation message\n",
        "print(f\"Dataset Splitting Completed!\\nTrain Folder: {os.listdir(train_dir)}\\nValidation Folder: {os.listdir(val_dir)}\")\n"
      ]
    },
    {
      "cell_type": "markdown",
      "metadata": {
        "id": "4dd0ZyUbeGzI"
      },
      "source": [
        "## Create Image Classification Model using Tensorflow, Image Data Generator, CNN and Adam Optimizer"
      ]
    },
    {
      "cell_type": "code",
      "execution_count": 9,
      "metadata": {
        "id": "-gty2jS7u06p"
      },
      "outputs": [],
      "source": [
        "# Create Callback\n",
        "class Callback(tf.keras.callbacks.Callback):\n",
        "  def on_epoch_end(self, epoch, logs={}):\n",
        "    if(logs.get('accuracy') > 0.92 and logs.get('val_accuracy')>0.92):\n",
        "      print(\"Accuracy have been achieved!\")\n",
        "      self.model.stop_training = True\n",
        "callbacks= Callback()"
      ]
    },
    {
      "cell_type": "code",
      "execution_count": 10,
      "metadata": {
        "colab": {
          "base_uri": "https://localhost:8080/"
        },
        "id": "R6VtIAfSYuz-",
        "outputId": "25188233-69c1-4069-9982-8a8ddda9c1bf"
      },
      "outputs": [
        {
          "output_type": "stream",
          "name": "stdout",
          "text": [
            "Found 12000 images belonging to 3 classes.\n",
            "Found 3000 images belonging to 3 classes.\n",
            "Model: \"sequential\"\n",
            "_________________________________________________________________\n",
            " Layer (type)                Output Shape              Param #   \n",
            "=================================================================\n",
            " conv2d (Conv2D)             (None, 98, 98, 16)        448       \n",
            "                                                                 \n",
            " max_pooling2d (MaxPooling2  (None, 49, 49, 16)        0         \n",
            " D)                                                              \n",
            "                                                                 \n",
            " dropout (Dropout)           (None, 49, 49, 16)        0         \n",
            "                                                                 \n",
            " batch_normalization (Batch  (None, 49, 49, 16)        64        \n",
            " Normalization)                                                  \n",
            "                                                                 \n",
            " conv2d_1 (Conv2D)           (None, 49, 49, 32)        4640      \n",
            "                                                                 \n",
            " max_pooling2d_1 (MaxPoolin  (None, 24, 24, 32)        0         \n",
            " g2D)                                                            \n",
            "                                                                 \n",
            " dropout_1 (Dropout)         (None, 24, 24, 32)        0         \n",
            "                                                                 \n",
            " conv2d_2 (Conv2D)           (None, 24, 24, 64)        18496     \n",
            "                                                                 \n",
            " max_pooling2d_2 (MaxPoolin  (None, 12, 12, 64)        0         \n",
            " g2D)                                                            \n",
            "                                                                 \n",
            " dropout_2 (Dropout)         (None, 12, 12, 64)        0         \n",
            "                                                                 \n",
            " conv2d_3 (Conv2D)           (None, 12, 12, 128)       73856     \n",
            "                                                                 \n",
            " max_pooling2d_3 (MaxPoolin  (None, 6, 6, 128)         0         \n",
            " g2D)                                                            \n",
            "                                                                 \n",
            " dropout_3 (Dropout)         (None, 6, 6, 128)         0         \n",
            "                                                                 \n",
            " flatten (Flatten)           (None, 4608)              0         \n",
            "                                                                 \n",
            " dense (Dense)               (None, 64)                294976    \n",
            "                                                                 \n",
            " dense_1 (Dense)             (None, 32)                2080      \n",
            "                                                                 \n",
            " dense_2 (Dense)             (None, 3)                 99        \n",
            "                                                                 \n",
            "=================================================================\n",
            "Total params: 394659 (1.51 MB)\n",
            "Trainable params: 394627 (1.51 MB)\n",
            "Non-trainable params: 32 (128.00 Byte)\n",
            "_________________________________________________________________\n",
            "Found 12000 images belonging to 3 classes.\n",
            "Found 3000 images belonging to 3 classes.\n"
          ]
        }
      ],
      "source": [
        "import tensorflow as tf\n",
        "from tensorflow.keras.preprocessing.image import ImageDataGenerator\n",
        "\n",
        "base_dir = \"/content/ssb\"\n",
        "classes = [\"Boot\", \"Sandal\", \"Shoe\"]\n",
        "\n",
        "# Create train and validation directories (handling existence)\n",
        "train_dir = os.path.join(base_dir, \"train\")\n",
        "val_dir = os.path.join(base_dir, \"val\")\n",
        "os.makedirs(train_dir, exist_ok=True)\n",
        "os.makedirs(val_dir, exist_ok=True)\n",
        "\n",
        "# Image dimensions (adjust based on your image size)\n",
        "img_width, img_height = 100, 100\n",
        "\n",
        "# Data augmentation parameters (optional, adjust as needed)\n",
        "train_datagen = ImageDataGenerator(rescale=1./255,  # Rescale pixel values to [0, 1]\n",
        "                                   shear_range=0.2,  # Randomly shear images\n",
        "                                   zoom_range=0.2,  # Randomly zoom images\n",
        "                                   horizontal_flip=True)  # Randomly flip images horizontally\n",
        "\n",
        "val_datagen = ImageDataGenerator(rescale=1./255)  # Rescale only for validation\n",
        "\n",
        "# Create training and validation data generators\n",
        "train_generator = train_datagen.flow_from_directory(\n",
        "    train_dir,\n",
        "    target_size=(img_width, img_height),\n",
        "    batch_size=32,  # Adjust batch size as needed\n",
        "    class_mode='categorical')  # One-hot encoding for multiple classes\n",
        "\n",
        "validation_generator = val_datagen.flow_from_directory(\n",
        "    val_dir,\n",
        "    target_size=(img_width, img_height),\n",
        "    batch_size=32,\n",
        "    class_mode='categorical')\n",
        "\n",
        "\n",
        "# Use a function to define the image classification model for reusability\n",
        "def create_image_classification_model(input_shape=(100, 100, 3), num_classes=3):\n",
        "  model = tf.keras.Sequential([\n",
        "\n",
        "      tf.keras.layers.Conv2D(16, (3, 3), activation='relu', input_shape=input_shape),\n",
        "      tf.keras.layers.MaxPooling2D((2,2), strides = (2, 2)),\n",
        "      tf.keras.layers.Dropout(0.5),\n",
        "      tf.keras.layers.BatchNormalization(),\n",
        "\n",
        "      tf.keras.layers.Conv2D(32, (3,3), padding = 'Same', activation='relu'),\n",
        "      tf.keras.layers.MaxPooling2D(pool_size = (2,2), strides = (2, 2)),\n",
        "      tf.keras.layers.Dropout(0.5),\n",
        "\n",
        "      tf.keras.layers.Conv2D(64, (3,3), padding = 'Same', activation='relu'),\n",
        "      tf.keras.layers.MaxPooling2D(pool_size = (2,2), strides = (2, 2)),\n",
        "      tf.keras.layers.Dropout(0.5),\n",
        "\n",
        "      tf.keras.layers.Conv2D(128, (3,3), padding = 'Same', activation='relu'),\n",
        "      tf.keras.layers.MaxPooling2D(pool_size = (2,2), strides = (2, 2)),\n",
        "      tf.keras.layers.Dropout(0.5),\n",
        "\n",
        "      tf.keras.layers.Flatten(),\n",
        "      tf.keras.layers.Dense(64, activation='relu'),\n",
        "      tf.keras.layers.Dense(32, activation='relu'),\n",
        "      tf.keras.layers.Dense(num_classes, activation='softmax')  # Output layer with num_classes\n",
        "  ])\n",
        "  return model\n",
        "\n",
        "\n",
        "# Create the model\n",
        "model = create_image_classification_model(input_shape=(100, 100, 3), num_classes=3)\n",
        "\n",
        "model.summary()\n",
        "\n",
        "model.compile(optimizer=tf.optimizers.Adam(), loss='categorical_crossentropy', metrics=['accuracy'])\n",
        "\n",
        "# Generate data using flow_from_directory\n",
        "train_generator = train_datagen.flow_from_directory(train_dir, target_size=(100, 100), batch_size=32, class_mode='categorical')\n",
        "validation_generator = val_datagen.flow_from_directory(val_dir, target_size=(100, 100), batch_size=32, class_mode='categorical')"
      ]
    },
    {
      "cell_type": "code",
      "source": [
        "history = model.fit(train_generator, steps_per_epoch=len(train_generator), epochs=50,\n",
        "          validation_data=validation_generator, validation_steps=len(validation_generator),\n",
        "          verbose=2, callbacks=[callbacks])"
      ],
      "metadata": {
        "colab": {
          "base_uri": "https://localhost:8080/"
        },
        "id": "YCTxn0gvoFPK",
        "outputId": "2fa9ed7c-3380-436b-ffbb-cde94b20cdac"
      },
      "execution_count": 11,
      "outputs": [
        {
          "output_type": "stream",
          "name": "stdout",
          "text": [
            "Epoch 1/50\n",
            "375/375 - 55s - loss: 0.7842 - accuracy: 0.6375 - val_loss: 1.0514 - val_accuracy: 0.3680 - 55s/epoch - 146ms/step\n",
            "Epoch 2/50\n",
            "375/375 - 42s - loss: 0.4491 - accuracy: 0.8171 - val_loss: 0.4431 - val_accuracy: 0.8643 - 42s/epoch - 111ms/step\n",
            "Epoch 3/50\n",
            "375/375 - 41s - loss: 0.3614 - accuracy: 0.8587 - val_loss: 0.4144 - val_accuracy: 0.9073 - 41s/epoch - 108ms/step\n",
            "Epoch 4/50\n",
            "375/375 - 39s - loss: 0.3166 - accuracy: 0.8760 - val_loss: 0.4443 - val_accuracy: 0.8997 - 39s/epoch - 104ms/step\n",
            "Epoch 5/50\n",
            "375/375 - 39s - loss: 0.2803 - accuracy: 0.8933 - val_loss: 0.4008 - val_accuracy: 0.9247 - 39s/epoch - 103ms/step\n",
            "Epoch 6/50\n",
            "375/375 - 39s - loss: 0.2702 - accuracy: 0.8978 - val_loss: 0.3337 - val_accuracy: 0.9107 - 39s/epoch - 105ms/step\n",
            "Epoch 7/50\n",
            "375/375 - 40s - loss: 0.2507 - accuracy: 0.9054 - val_loss: 0.3295 - val_accuracy: 0.9190 - 40s/epoch - 106ms/step\n",
            "Epoch 8/50\n",
            "375/375 - 40s - loss: 0.2382 - accuracy: 0.9134 - val_loss: 0.3197 - val_accuracy: 0.9143 - 40s/epoch - 106ms/step\n",
            "Epoch 9/50\n",
            "375/375 - 39s - loss: 0.2260 - accuracy: 0.9178 - val_loss: 0.3665 - val_accuracy: 0.8950 - 39s/epoch - 105ms/step\n",
            "Epoch 10/50\n",
            "Accuracy have been achieved!\n",
            "375/375 - 39s - loss: 0.2126 - accuracy: 0.9216 - val_loss: 0.2741 - val_accuracy: 0.9267 - 39s/epoch - 105ms/step\n"
          ]
        }
      ]
    },
    {
      "cell_type": "code",
      "source": [
        "import numpy as np\n",
        "from google.colab import files\n",
        "from tensorflow.keras.preprocessing import image\n",
        "import matplotlib.pyplot as plt\n",
        "%matplotlib inline\n",
        "\n",
        "def predict_image(model, image_path):\n",
        "  # Load and resize the image\n",
        "  img = image.load_img(image_path, target_size=(100, 100))\n",
        "\n",
        "  # Display the image\n",
        "  plt.imshow(img)\n",
        "  plt.show()\n",
        "\n",
        "  # Preprocess the image\n",
        "  x = image.img_to_array(img)\n",
        "  x = np.expand_dims(x, axis=0)\n",
        "  x /= 255.0  # Normalize pixel values\n",
        "\n",
        "  # Predict the class\n",
        "  classes = model.predict(x, batch_size=10)\n",
        "  predict_class_index = np.argmax(classes)\n",
        "\n",
        "  # Load class labels (assuming they're stored in a list)\n",
        "  class_labels = [\"Boot\", \"Sandal\", \"Shoe\"]\n",
        "\n",
        "  predict = class_labels[predict_class_index]\n",
        "\n",
        "  # Print results\n",
        "  print(f\"Filename: {image_path}\")\n",
        "  print(f\"Predicted Class: {predict}\")\n",
        "\n",
        "# Upload the image\n",
        "uploaded = files.upload()\n",
        "\n",
        "# Process the uploaded image\n",
        "if uploaded:\n",
        "  image_path = list(uploaded.keys())[0]  # Get the first uploaded file path\n",
        "  predict_image(model, image_path)\n"
      ],
      "metadata": {
        "id": "Ajk4KapG04HF",
        "colab": {
          "base_uri": "https://localhost:8080/",
          "height": 546
        },
        "outputId": "22303058-9cf9-4005-f569-522cd9845cd4"
      },
      "execution_count": 13,
      "outputs": [
        {
          "output_type": "display_data",
          "data": {
            "text/plain": [
              "<IPython.core.display.HTML object>"
            ],
            "text/html": [
              "\n",
              "     <input type=\"file\" id=\"files-ef0afa84-5fe9-41f7-af6a-eb51128756a7\" name=\"files[]\" multiple disabled\n",
              "        style=\"border:none\" />\n",
              "     <output id=\"result-ef0afa84-5fe9-41f7-af6a-eb51128756a7\">\n",
              "      Upload widget is only available when the cell has been executed in the\n",
              "      current browser session. Please rerun this cell to enable.\n",
              "      </output>\n",
              "      <script>// Copyright 2017 Google LLC\n",
              "//\n",
              "// Licensed under the Apache License, Version 2.0 (the \"License\");\n",
              "// you may not use this file except in compliance with the License.\n",
              "// You may obtain a copy of the License at\n",
              "//\n",
              "//      http://www.apache.org/licenses/LICENSE-2.0\n",
              "//\n",
              "// Unless required by applicable law or agreed to in writing, software\n",
              "// distributed under the License is distributed on an \"AS IS\" BASIS,\n",
              "// WITHOUT WARRANTIES OR CONDITIONS OF ANY KIND, either express or implied.\n",
              "// See the License for the specific language governing permissions and\n",
              "// limitations under the License.\n",
              "\n",
              "/**\n",
              " * @fileoverview Helpers for google.colab Python module.\n",
              " */\n",
              "(function(scope) {\n",
              "function span(text, styleAttributes = {}) {\n",
              "  const element = document.createElement('span');\n",
              "  element.textContent = text;\n",
              "  for (const key of Object.keys(styleAttributes)) {\n",
              "    element.style[key] = styleAttributes[key];\n",
              "  }\n",
              "  return element;\n",
              "}\n",
              "\n",
              "// Max number of bytes which will be uploaded at a time.\n",
              "const MAX_PAYLOAD_SIZE = 100 * 1024;\n",
              "\n",
              "function _uploadFiles(inputId, outputId) {\n",
              "  const steps = uploadFilesStep(inputId, outputId);\n",
              "  const outputElement = document.getElementById(outputId);\n",
              "  // Cache steps on the outputElement to make it available for the next call\n",
              "  // to uploadFilesContinue from Python.\n",
              "  outputElement.steps = steps;\n",
              "\n",
              "  return _uploadFilesContinue(outputId);\n",
              "}\n",
              "\n",
              "// This is roughly an async generator (not supported in the browser yet),\n",
              "// where there are multiple asynchronous steps and the Python side is going\n",
              "// to poll for completion of each step.\n",
              "// This uses a Promise to block the python side on completion of each step,\n",
              "// then passes the result of the previous step as the input to the next step.\n",
              "function _uploadFilesContinue(outputId) {\n",
              "  const outputElement = document.getElementById(outputId);\n",
              "  const steps = outputElement.steps;\n",
              "\n",
              "  const next = steps.next(outputElement.lastPromiseValue);\n",
              "  return Promise.resolve(next.value.promise).then((value) => {\n",
              "    // Cache the last promise value to make it available to the next\n",
              "    // step of the generator.\n",
              "    outputElement.lastPromiseValue = value;\n",
              "    return next.value.response;\n",
              "  });\n",
              "}\n",
              "\n",
              "/**\n",
              " * Generator function which is called between each async step of the upload\n",
              " * process.\n",
              " * @param {string} inputId Element ID of the input file picker element.\n",
              " * @param {string} outputId Element ID of the output display.\n",
              " * @return {!Iterable<!Object>} Iterable of next steps.\n",
              " */\n",
              "function* uploadFilesStep(inputId, outputId) {\n",
              "  const inputElement = document.getElementById(inputId);\n",
              "  inputElement.disabled = false;\n",
              "\n",
              "  const outputElement = document.getElementById(outputId);\n",
              "  outputElement.innerHTML = '';\n",
              "\n",
              "  const pickedPromise = new Promise((resolve) => {\n",
              "    inputElement.addEventListener('change', (e) => {\n",
              "      resolve(e.target.files);\n",
              "    });\n",
              "  });\n",
              "\n",
              "  const cancel = document.createElement('button');\n",
              "  inputElement.parentElement.appendChild(cancel);\n",
              "  cancel.textContent = 'Cancel upload';\n",
              "  const cancelPromise = new Promise((resolve) => {\n",
              "    cancel.onclick = () => {\n",
              "      resolve(null);\n",
              "    };\n",
              "  });\n",
              "\n",
              "  // Wait for the user to pick the files.\n",
              "  const files = yield {\n",
              "    promise: Promise.race([pickedPromise, cancelPromise]),\n",
              "    response: {\n",
              "      action: 'starting',\n",
              "    }\n",
              "  };\n",
              "\n",
              "  cancel.remove();\n",
              "\n",
              "  // Disable the input element since further picks are not allowed.\n",
              "  inputElement.disabled = true;\n",
              "\n",
              "  if (!files) {\n",
              "    return {\n",
              "      response: {\n",
              "        action: 'complete',\n",
              "      }\n",
              "    };\n",
              "  }\n",
              "\n",
              "  for (const file of files) {\n",
              "    const li = document.createElement('li');\n",
              "    li.append(span(file.name, {fontWeight: 'bold'}));\n",
              "    li.append(span(\n",
              "        `(${file.type || 'n/a'}) - ${file.size} bytes, ` +\n",
              "        `last modified: ${\n",
              "            file.lastModifiedDate ? file.lastModifiedDate.toLocaleDateString() :\n",
              "                                    'n/a'} - `));\n",
              "    const percent = span('0% done');\n",
              "    li.appendChild(percent);\n",
              "\n",
              "    outputElement.appendChild(li);\n",
              "\n",
              "    const fileDataPromise = new Promise((resolve) => {\n",
              "      const reader = new FileReader();\n",
              "      reader.onload = (e) => {\n",
              "        resolve(e.target.result);\n",
              "      };\n",
              "      reader.readAsArrayBuffer(file);\n",
              "    });\n",
              "    // Wait for the data to be ready.\n",
              "    let fileData = yield {\n",
              "      promise: fileDataPromise,\n",
              "      response: {\n",
              "        action: 'continue',\n",
              "      }\n",
              "    };\n",
              "\n",
              "    // Use a chunked sending to avoid message size limits. See b/62115660.\n",
              "    let position = 0;\n",
              "    do {\n",
              "      const length = Math.min(fileData.byteLength - position, MAX_PAYLOAD_SIZE);\n",
              "      const chunk = new Uint8Array(fileData, position, length);\n",
              "      position += length;\n",
              "\n",
              "      const base64 = btoa(String.fromCharCode.apply(null, chunk));\n",
              "      yield {\n",
              "        response: {\n",
              "          action: 'append',\n",
              "          file: file.name,\n",
              "          data: base64,\n",
              "        },\n",
              "      };\n",
              "\n",
              "      let percentDone = fileData.byteLength === 0 ?\n",
              "          100 :\n",
              "          Math.round((position / fileData.byteLength) * 100);\n",
              "      percent.textContent = `${percentDone}% done`;\n",
              "\n",
              "    } while (position < fileData.byteLength);\n",
              "  }\n",
              "\n",
              "  // All done.\n",
              "  yield {\n",
              "    response: {\n",
              "      action: 'complete',\n",
              "    }\n",
              "  };\n",
              "}\n",
              "\n",
              "scope.google = scope.google || {};\n",
              "scope.google.colab = scope.google.colab || {};\n",
              "scope.google.colab._files = {\n",
              "  _uploadFiles,\n",
              "  _uploadFilesContinue,\n",
              "};\n",
              "})(self);\n",
              "</script> "
            ]
          },
          "metadata": {}
        },
        {
          "output_type": "stream",
          "name": "stdout",
          "text": [
            "Saving 1e2ji012ej8981eh8h7ht32.jpg to 1e2ji012ej8981eh8h7ht32 (1).jpg\n"
          ]
        },
        {
          "output_type": "display_data",
          "data": {
            "text/plain": [
              "<Figure size 640x480 with 1 Axes>"
            ],
            "image/png": "[encoded data removed]"
          },
          "metadata": {}
        },
        {
          "output_type": "stream",
          "name": "stdout",
          "text": [
            "1/1 [==============================] - 0s 439ms/step\n",
            "Filename: 1e2ji012ej8981eh8h7ht32 (1).jpg\n",
            "Predicted Class: Boot\n"
          ]
        }
      ]
    },
    {
      "cell_type": "code",
      "source": [
        "import matplotlib.pyplot as plt\n",
        "\n",
        "acc = history.history['accuracy']\n",
        "val_acc = history.history['val_accuracy']\n",
        "loss = history.history['loss']\n",
        "val_loss = history.history['val_loss']\n",
        "\n",
        "epochs = range(len(acc))\n",
        "\n",
        "# Create a subplot figure\n",
        "plt.figure(figsize=(20, 5))  # Adjust figure size as needed\n",
        "\n",
        "# Subplot for Accuracy\n",
        "plt.subplot(1, 2, 1)  # 1 row, 2 columns, subplot 1\n",
        "plt.plot(epochs, acc, 'r', label='Train Accuracy')\n",
        "plt.plot(epochs, val_acc, 'b', label='Validation Accuracy')\n",
        "plt.title('Model Accuracy')\n",
        "plt.legend(loc=0)\n",
        "\n",
        "# Subplot for all\n",
        "plt.subplot(1, 2, 2)  # 1 row, 2 columns, subplot 2\n",
        "plt.plot(epochs, acc, 'blue', label='Train Accuracy')\n",
        "plt.plot(epochs, val_acc, 'green', label='Validation Accuracy')\n",
        "plt.plot(epochs, loss, 'red', label='Train Loss')\n",
        "plt.plot(epochs, val_loss, 'orange', label='Validation Loss')\n",
        "plt.title('Model Accuracy and Loss')\n",
        "plt.legend(loc=0)\n",
        "\n",
        "\n",
        "# Adjust layout to prevent overlapping elements\n",
        "plt.tight_layout()\n",
        "\n",
        "plt.show()"
      ],
      "metadata": {
        "id": "pK-N8QGe0n5P",
        "colab": {
          "base_uri": "https://localhost:8080/",
          "height": 507
        },
        "outputId": "66ed6419-ea05-476f-819e-b2ed31b24d98"
      },
      "execution_count": 14,
      "outputs": [
        {
          "output_type": "display_data",
          "data": {
            "text/plain": [
              "<Figure size 2000x500 with 2 Axes>"
            ],
            "image/png": "[encoded data removed]"
          },
          "metadata": {}
        }
      ]
    },
    {
      "cell_type": "markdown",
      "source": [
        "## Model Deployment"
      ],
      "metadata": {
        "id": "TmcjrL9gI2i8"
      }
    },
    {
      "cell_type": "code",
      "source": [
        "import tensorflow as tf\n",
        "import pathlib\n",
        "\n",
        "export_dir = 'saved_model/'\n",
        "tf.saved_model.save(model, export_dir)\n",
        "\n",
        "converter = tf.lite.TFLiteConverter.from_saved_model(export_dir)\n",
        "tflite_model = converter.convert()\n",
        "\n",
        "tflite_model_file = pathlib.Path('ssbic.tflite')\n",
        "tflite_model_file.write_bytes(tflite_model)\n"
      ],
      "metadata": {
        "id": "ESXNzYgr0l0v",
        "colab": {
          "base_uri": "https://localhost:8080/"
        },
        "outputId": "f78eb8d2-69d2-40d0-b8ff-9c480446a895"
      },
      "execution_count": 15,
      "outputs": [
        {
          "output_type": "execute_result",
          "data": {
            "text/plain": [
              "1584296"
            ]
          },
          "metadata": {},
          "execution_count": 15
        }
      ]
    }
  ],
  "metadata": {
    "colab": {
      "provenance": [],
      "gpuType": "T4"
    },
    "kernelspec": {
      "display_name": "Python 3",
      "name": "python3"
    },
    "language_info": {
      "name": "python"
    },
    "accelerator": "GPU"
  },
  "nbformat": 4,
  "nbformat_minor": 0
}